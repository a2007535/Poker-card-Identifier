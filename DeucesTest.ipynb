{
 "cells": [
  {
   "cell_type": "code",
   "execution_count": 1,
   "metadata": {},
   "outputs": [],
   "source": [
    "from deuces import Card\n",
    "card = Card.new('Qh')"
   ]
  },
  {
   "cell_type": "code",
   "execution_count": 2,
   "metadata": {},
   "outputs": [
    {
     "name": "stdout",
     "output_type": "stream",
     "text": [
      "  [ A \u001b[31m❤\u001b[0m ] , [ A \u001b[31m♦\u001b[0m ] , [ A ♣ ] , [ 2 \u001b[31m❤\u001b[0m ] , [ 4 \u001b[31m♦\u001b[0m ] , [ 4 ♠ ] , [ T \u001b[31m❤\u001b[0m ]  \n",
      "  [ A \u001b[31m❤\u001b[0m ] , [ A \u001b[31m♦\u001b[0m ] , [ A ♣ ] , [ 2 \u001b[31m❤\u001b[0m ] , [ 4 \u001b[31m♦\u001b[0m ] , [ 2 ♠ ] , [ T ♠ ]  \n"
     ]
    }
   ],
   "source": [
    "board = [\n",
    "    Card.new('Ah'),\n",
    "    Card.new('Ad'),\n",
    "    Card.new('Ac'),\n",
    "    Card.new('2h'),\n",
    "    Card.new('4d'),\n",
    "    \n",
    "]\n",
    "hand = [\n",
    "   Card.new('4s'),\n",
    "   Card.new('Th')\n",
    "]\n",
    "hand2 = [\n",
    "   Card.new('2s'),\n",
    "   Card.new('Ts')\n",
    "]\n",
    "\n",
    "Card.print_pretty_cards(board + hand)\n",
    "Card.print_pretty_cards(board + hand2)"
   ]
  },
  {
   "cell_type": "code",
   "execution_count": 11,
   "metadata": {},
   "outputs": [
    {
     "name": "stdout",
     "output_type": "stream",
     "text": [
      "176\n"
     ]
    },
    {
     "data": {
      "text/plain": [
       "178"
      ]
     },
     "execution_count": 11,
     "metadata": {},
     "output_type": "execute_result"
    }
   ],
   "source": [
    "from deuces import Evaluator\n",
    "evaluator = Evaluator()\n",
    "print(evaluator.evaluate(board, hand))\n",
    "evaluator.evaluate(board, hand2)"
   ]
  },
  {
   "cell_type": "code",
   "execution_count": 30,
   "metadata": {},
   "outputs": [],
   "source": [
    "number = [\"A\",\"2\",\"3\",\"4\",\"5\",\"6\",\"7\",\"8\",\"9\",\"T\",\"J\",\"Q\",\"K\"]\n",
    "suits = [\"s\",\"h\",\"d\",\"c\"]\n",
    "pokerAllSet = set([Card.new(i+j) for i in number for j in suits])\n",
    "testList = ([Card.new(i+j) for i in number for j in suits[:2]])"
   ]
  },
  {
   "cell_type": "code",
   "execution_count": 31,
   "metadata": {},
   "outputs": [
    {
     "name": "stdout",
     "output_type": "stream",
     "text": [
      "  [ A ♠ ] , [ A \u001b[31m❤\u001b[0m ]  \n",
      "  [ A ♠ ] , [ 2 ♠ ]  \n",
      "  [ A \u001b[31m❤\u001b[0m ] , [ 2 ♠ ]  \n"
     ]
    }
   ],
   "source": [
    "from collections import defaultdict\n",
    "cardRankDict = defaultdict(list)\n",
    "\n",
    "count = 0\n",
    "from itertools import combinations\n",
    "for i in range(len(testList[:3])):\n",
    "    for j in range(i+1,len(testList[:3])):\n",
    "        pokerAllSet.remove(testList[i])\n",
    "        pokerAllSet.remove(testList[j])\n",
    "        hand = [testList[i],testList[j]]\n",
    "        for k in (combinations(pokerAllSet,5)):\n",
    "            count += 1\n",
    "            board = list(k)\n",
    "            cardRankDict[(i,j)].append(evaluator.evaluate(board, hand))\n",
    "            if count %10000 == 0:\n",
    "                print(count)\n",
    "        Card.print_pretty_cards(hand)\n",
    "        pokerAllSet.add(testList[i])\n",
    "        pokerAllSet.add(testList[j])"
   ]
  },
  {
   "cell_type": "code",
   "execution_count": null,
   "metadata": {},
   "outputs": [],
   "source": []
  }
 ],
 "metadata": {
  "kernelspec": {
   "display_name": "Python 3",
   "language": "python",
   "name": "python3"
  },
  "language_info": {
   "codemirror_mode": {
    "name": "ipython",
    "version": 3
   },
   "file_extension": ".py",
   "mimetype": "text/x-python",
   "name": "python",
   "nbconvert_exporter": "python",
   "pygments_lexer": "ipython3",
   "version": "3.9.6"
  }
 },
 "nbformat": 4,
 "nbformat_minor": 2
}
