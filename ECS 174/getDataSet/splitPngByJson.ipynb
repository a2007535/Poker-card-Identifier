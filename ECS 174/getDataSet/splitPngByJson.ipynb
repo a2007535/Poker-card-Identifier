{
 "cells": [
  {
   "cell_type": "code",
   "execution_count": 17,
   "metadata": {},
   "outputs": [],
   "source": [
    "import json\n",
    "from PIL import Image\n",
    "\n",
    "def split_images(json_file, source_image):\n",
    "    \"\"\"\n",
    "    Splits the source image into smaller images based on coordinates provided\n",
    "    in the JSON file and saves them individually.\n",
    "\n",
    "    Parameters:\n",
    "    json_file (str): The path to the JSON file containing the coordinates.\n",
    "    source_image (str): The path to the source image to be split.\n",
    "    \"\"\"\n",
    "    # Read the JSON file\n",
    "    with open(json_file, 'r', encoding='utf-8-sig') as f:\n",
    "        data = json.load(f)\n",
    "    \n",
    "    # Open the source image\n",
    "    image = Image.open(source_image)\n",
    "    \n",
    "    # Iterate over the JSON data and split the image\n",
    "    for key, value in data[\"frames\"].items():\n",
    "        # Get the position and size of the tile\n",
    "        x = value[\"frame\"][\"x\"]\n",
    "        y = value[\"frame\"][\"y\"]\n",
    "        w = value[\"frame\"][\"w\"]\n",
    "        h = value[\"frame\"][\"h\"]\n",
    "\n",
    "        if not w or not h:\n",
    "            continue\n",
    "\n",
    "        # Crop the tile from the source image\n",
    "        image_path = \"./data/\" + key + \".png\"  # Save path for the image, named by key\n",
    "        region = image.crop((x, y, x + w, y + h))\n",
    "        \n",
    "        # Save the split image\n",
    "        region.save(image_path)\n",
    "\n",
    "# Example usage\n",
    "split_images(\"./flags/flags.json\", \"./flags/flags.png\")\n"
   ]
  },
  {
   "cell_type": "code",
   "execution_count": null,
   "metadata": {},
   "outputs": [],
   "source": []
  }
 ],
 "metadata": {
  "kernelspec": {
   "display_name": "Python 3",
   "language": "python",
   "name": "python3"
  },
  "language_info": {
   "codemirror_mode": {
    "name": "ipython",
    "version": 3
   },
   "file_extension": ".py",
   "mimetype": "text/x-python",
   "name": "python",
   "nbconvert_exporter": "python",
   "pygments_lexer": "ipython3",
   "version": "3.11.1"
  }
 },
 "nbformat": 4,
 "nbformat_minor": 2
}
