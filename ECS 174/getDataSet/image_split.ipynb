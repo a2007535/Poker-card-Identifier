{
 "cells": [
  {
   "cell_type": "code",
   "execution_count": 7,
   "metadata": {},
   "outputs": [],
   "source": [
    "# 匯入相關所需的模組\n",
    "import numpy as np\n",
    "import pandas as pd\n",
    "import matplotlib.pyplot as plt\n",
    "import os\n",
    "import glob\n",
    "from pathlib import PurePath\n",
    "import cv2\n",
    "\n",
    "\n",
    "from sklearn.model_selection import train_test_split\n",
    "from keras.utils import to_categorical\n",
    "\n",
    "# 載入數據集\n",
    "data_path = 'label/'\n",
    "categories = [i + j for i in 'A23456789TJQK' for j in \"shdc\"]\n",
    "suites = 'shdc'\n",
    "number = 'A23456789TJQK'\n",
    "\n",
    "images = []\n",
    "labels = []\n",
    "\n",
    "\n",
    "for img in os.listdir('./preprocess'):\n",
    "    img_path = os.path.join('./preprocess', img)\n",
    "    img_array = cv2.imread(img_path,0)\n",
    "    img_array = img_array.astype('float32')/255.\n",
    "    img_index = int(img.split('_')[1])//4\n",
    "    images.append(img_array)\n",
    "    labels.append(categories[img_index])\n",
    "\n",
    "\n",
    "images = np.array(images)\n",
    "labels = np.array(labels)\n",
    "\n",
    "# one_hot_number_labels = to_categorical(number_labels, 13)\n",
    "# one_hot_suites_labels = to_categorical(suites_labels, 4)\n",
    "\n",
    "# one_hot_number_labels = to_categorical(number_labels, 13)\n",
    "# one_hot_suites_labels = to_categorical(suites_labels, 4)\n",
    "\n",
    "# 將資料集分成訓練集和測試集\n",
    "X_train, X_test, y_train, y_test = train_test_split(images, labels, test_size=0.2, random_state=42)\n",
    "\n",
    "# 將資料集儲存為 NumPy 檔\n",
    "np.save('./dataset/images_train.npy', X_train)\n",
    "np.save('./dataset/labels_train.npy', y_train)\n",
    "np.save('./dataset/images_test.npy', X_test)\n",
    "np.save('./dataset/labels_test.npy', y_test)\n",
    "\n"
   ]
  },
  {
   "cell_type": "code",
   "execution_count": null,
   "metadata": {},
   "outputs": [],
   "source": []
  }
 ],
 "metadata": {
  "kernelspec": {
   "display_name": "Python 3",
   "language": "python",
   "name": "python3"
  },
  "language_info": {
   "codemirror_mode": {
    "name": "ipython",
    "version": 3
   },
   "file_extension": ".py",
   "mimetype": "text/x-python",
   "name": "python",
   "nbconvert_exporter": "python",
   "pygments_lexer": "ipython3",
   "version": "3.11.7"
  }
 },
 "nbformat": 4,
 "nbformat_minor": 2
}
