{
 "cells": [
  {
   "cell_type": "code",
   "execution_count": 2,
   "metadata": {},
   "outputs": [],
   "source": [
    "# Import necessary modules\n",
    "import numpy as np\n",
    "import os\n",
    "import cv2\n",
    "from keras.preprocessing.image import ImageDataGenerator\n",
    "from keras.utils import to_categorical"
   ]
  },
  {
   "cell_type": "code",
   "execution_count": 3,
   "metadata": {},
   "outputs": [],
   "source": [
    "# Load the dataset\n",
    "data_path = 'label/'\n",
    "categories = [i + j for i in 'A23456789TJQK' for j in \"shdc\"]\n",
    "suites = 'shdc'\n",
    "number = 'A23456789TJQK'\n",
    "\n",
    "number_images = []\n",
    "number_labels = []\n",
    "suites_images = []\n",
    "suites_labels = []\n",
    "\n",
    "# Read images and labels\n",
    "for category in categories:\n",
    "    path = os.path.join(data_path, category)\n",
    "    suites_class = suites.index(category[1])\n",
    "    number_class = number.index(category[0])\n",
    "\n",
    "    for img in os.listdir(path):\n",
    "        img_path = os.path.join(path, img)\n",
    "        img_array = cv2.imread(img_path, 0)\n",
    "        img_array = cv2.copyMakeBorder(img_array, 9, 9, 21, 21, cv2.BORDER_REPLICATE)\n",
    "        img_array = img_array.astype('float32') / 255.\n",
    "        number_images.append(img_array)\n",
    "        suites_images.append(img_array)\n",
    "        number_labels.append(number_class)\n",
    "        suites_labels.append(suites_class)\n",
    "\n",
    "# Convert images to NumPy arrays\n",
    "number_images = np.array(number_images)\n",
    "suites_images = np.array(suites_images)\n",
    "number_labels = np.array(number_labels)\n",
    "suites_labels = np.array(suites_labels)"
   ]
  },
  {
   "cell_type": "code",
   "execution_count": 4,
   "metadata": {},
   "outputs": [],
   "source": [
    "import shutil  # Module for file operations\n",
    "from keras.preprocessing.image import ImageDataGenerator  # Importing ImageDataGenerator for data augmentation\n",
    "import os  # Operating System module for file operations\n",
    "\n",
    "# Configure data augmentation parameters\n",
    "datagen_train = ImageDataGenerator(\n",
    "    rotation_range=40,      # Range for random rotations\n",
    "    width_shift_range=0.2,  # Range for random horizontal shifts\n",
    "    height_shift_range=0.2, # Range for random vertical shifts\n",
    "    shear_range=0.2,        # Range for random shearing transformations\n",
    "    zoom_range=0.2,         # Range for random zoom\n",
    "    fill_mode='nearest'     # Fill mode for points outside the input boundaries\n",
    ")\n",
    "\n",
    "# Train the model\n",
    "# history = model.fit(datagen_train.flow(X_train, y_train, batch_size=100), batch_size=1 ,epochs=700, validation_data=(X_test, y_test))\n",
    "\n",
    "# If the \"preprocess\" directory exists, remove it\n",
    "if os.path.exists('./preprocess'):\n",
    "    shutil.rmtree('./preprocess')\n",
    "\n",
    "# Create the \"preprocess\" directory\n",
    "if not os.path.exists('./preprocess'):\n",
    "    os.makedirs('./preprocess')\n",
    "\n",
    "i = 0\n",
    "# Perform data augmentation on the images\n",
    "for batch in datagen_train.flow(number_images.reshape((-1, 70, 70, 1)), batch_size=32, save_to_dir='preprocess', save_prefix='preprocess', save_format='jpeg'):\n",
    "    i += 1\n",
    "    if i > 200:\n",
    "        break \n"
   ]
  }
 ],
 "metadata": {
  "kernelspec": {
   "display_name": "Python 3",
   "language": "python",
   "name": "python3"
  },
  "language_info": {
   "codemirror_mode": {
    "name": "ipython",
    "version": 3
   },
   "file_extension": ".py",
   "mimetype": "text/x-python",
   "name": "python",
   "nbconvert_exporter": "python",
   "pygments_lexer": "ipython3",
   "version": "3.11.1"
  }
 },
 "nbformat": 4,
 "nbformat_minor": 2
}
