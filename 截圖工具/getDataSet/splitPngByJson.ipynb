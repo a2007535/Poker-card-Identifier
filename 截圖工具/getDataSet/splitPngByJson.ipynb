{
 "cells": [
  {
   "cell_type": "code",
   "execution_count": 17,
   "metadata": {},
   "outputs": [],
   "source": [
    "import json\n",
    "from PIL import Image\n",
    "\n",
    "def split_images(json_file, source_image):\n",
    "    # 读取 JSON 文件\n",
    "    with open(json_file, 'r', encoding='utf-8-sig') as f:\n",
    "        # print(f.readlines())\n",
    "        data = json.load(f)\n",
    "    \n",
    "    # 打开源图像\n",
    "    image = Image.open(source_image)\n",
    "    \n",
    "    # 遍历 JSON 数据并分割图像\n",
    "    for key, value in data[\"frames\"].items():\n",
    "        # 获取图块的位置和尺寸\n",
    "        x = value[\"frame\"][\"x\"]\n",
    "        y = value[\"frame\"][\"y\"]\n",
    "        w = value[\"frame\"][\"w\"]\n",
    "        h = value[\"frame\"][\"h\"]\n",
    "\n",
    "        if not w or not h:\n",
    "            continue        \n",
    "        # 从源图像中裁剪图块\n",
    "        image_path = \"./data/\" + key + \".png\"  # 图像的保存路径，以 key 命名\n",
    "        region = image.crop((x, y, x + w, y + h))\n",
    "        \n",
    "        # 保存分割的图像\n",
    "        region.save(image_path)\n",
    "\n",
    "# 使用示例\n",
    "split_images(\"flags.json\", \"flags.png\")\n"
   ]
  },
  {
   "cell_type": "code",
   "execution_count": null,
   "metadata": {},
   "outputs": [],
   "source": []
  }
 ],
 "metadata": {
  "kernelspec": {
   "display_name": "Python 3",
   "language": "python",
   "name": "python3"
  },
  "language_info": {
   "codemirror_mode": {
    "name": "ipython",
    "version": 3
   },
   "file_extension": ".py",
   "mimetype": "text/x-python",
   "name": "python",
   "nbconvert_exporter": "python",
   "pygments_lexer": "ipython3",
   "version": "3.11.1"
  }
 },
 "nbformat": 4,
 "nbformat_minor": 2
}
